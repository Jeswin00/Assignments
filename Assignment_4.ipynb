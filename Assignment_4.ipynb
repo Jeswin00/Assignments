{
  "nbformat": 4,
  "nbformat_minor": 0,
  "metadata": {
    "colab": {
      "provenance": [],
      "authorship_tag": "ABX9TyMwD3JUjdR8eVaUX2yje+0y",
      "include_colab_link": true
    },
    "kernelspec": {
      "name": "python3",
      "display_name": "Python 3"
    },
    "language_info": {
      "name": "python"
    }
  },
  "cells": [
    {
      "cell_type": "markdown",
      "metadata": {
        "id": "view-in-github",
        "colab_type": "text"
      },
      "source": [
        "<a href=\"https://colab.research.google.com/github/Jeswin00/Assignments/blob/main/Assignment_4.ipynb\" target=\"_parent\"><img src=\"https://colab.research.google.com/assets/colab-badge.svg\" alt=\"Open In Colab\"/></a>"
      ]
    },
    {
      "cell_type": "code",
      "execution_count": null,
      "metadata": {
        "id": "FEbzJz77cDyk"
      },
      "outputs": [],
      "source": []
    },
    {
      "cell_type": "markdown",
      "source": [
        "Joining two list"
      ],
      "metadata": {
        "id": "VfyrESW8cMuN"
      }
    },
    {
      "cell_type": "code",
      "source": [
        "list1 = [1, 2, 3, 4]\n",
        "list2 = [5, 6, 7, 8]\n",
        "list1.extend(list2)\n",
        "print(\"Joined list using concatenation:\", list1)"
      ],
      "metadata": {
        "colab": {
          "base_uri": "https://localhost:8080/"
        },
        "id": "TkA5m6F_caYd",
        "outputId": "f36b8d27-eb8e-41f5-c51e-046aea2b5805"
      },
      "execution_count": 1,
      "outputs": [
        {
          "output_type": "stream",
          "name": "stdout",
          "text": [
            "Joined list using concatenation: [1, 2, 3, 4, 5, 6, 7, 8]\n"
          ]
        }
      ]
    },
    {
      "cell_type": "markdown",
      "source": [
        "Even numbers"
      ],
      "metadata": {
        "id": "_1H3gDB0ctsj"
      }
    },
    {
      "cell_type": "code",
      "source": [
        "user_input = input(\"Enter a number: \")\n",
        "try:\n",
        "    user_number = int(user_input)\n",
        "    if user_number % 2 == 0:\n",
        "        print(f\"{user_number} is an even number.\")\n",
        "    else:\n",
        "        print(f\"{user_number} is an odd number.\")\n",
        "except ValueError:\n",
        "    print(\"Invalid input. Please enter a valid number.\")"
      ],
      "metadata": {
        "colab": {
          "base_uri": "https://localhost:8080/"
        },
        "id": "N23PUXgCcxWM",
        "outputId": "7a70a8d3-dfda-4a76-b2ef-ca8c99e2f726"
      },
      "execution_count": 2,
      "outputs": [
        {
          "output_type": "stream",
          "name": "stdout",
          "text": [
            "Enter a number: 6\n",
            "6 is an even number.\n"
          ]
        }
      ]
    },
    {
      "cell_type": "markdown",
      "source": [
        "Dictionary"
      ],
      "metadata": {
        "id": "B97tIOXUc5vg"
      }
    },
    {
      "cell_type": "code",
      "source": [
        "student_details= {\n",
        "    \"Bob\": [101, \"CSE\"],\n",
        "    \"Cristian\": [102, \"ECE\"],\n",
        "    \"France\": [105, \"IT\"]\n",
        "}\n",
        "print(\"Bob:\",student_details[\"Bob\"])\n",
        "print(\"Cristian:\",student_details[\"Cristian\"])\n",
        "print(\"France:\",student_details[\"France\"])"
      ],
      "metadata": {
        "colab": {
          "base_uri": "https://localhost:8080/"
        },
        "id": "sidCfkjXc9nx",
        "outputId": "8ed32c86-d1ba-4fa4-8fb6-58de32c9c415"
      },
      "execution_count": 3,
      "outputs": [
        {
          "output_type": "stream",
          "name": "stdout",
          "text": [
            "Bob: [101, 'CSE']\n",
            "Cristian: [102, 'ECE']\n",
            "France: [105, 'IT']\n"
          ]
        }
      ]
    },
    {
      "cell_type": "markdown",
      "source": [
        "Function to find odd numbers"
      ],
      "metadata": {
        "id": "NIPZbUGpdL_6"
      }
    },
    {
      "cell_type": "code",
      "source": [
        "def find_odd_numbers():\n",
        "    odd_numbers = []\n",
        "    while True:\n",
        "        user_input = input(\"Enter a number (or 'x' to quit): \")\n",
        "\n",
        "        if user_input == 'x':\n",
        "            break\n",
        "\n",
        "        try:\n",
        "            user_number = int(user_input)\n",
        "            if user_number % 2 != 0:\n",
        "                odd_numbers.append(user_number)\n",
        "                print(f\"{user_number} is an odd number.\")\n",
        "            else:\n",
        "                print(f\"{user_number} is even number.\")\n",
        "        except ValueError:\n",
        "            print(\"Invalid input. Please enter a valid number.\")\n",
        "\n",
        "    return odd_numbers\n",
        "odd_numbers_list = find_odd_numbers()\n",
        "print(\"Odd numbers entered by the user:\", odd_numbers_list)"
      ],
      "metadata": {
        "colab": {
          "base_uri": "https://localhost:8080/"
        },
        "id": "F9froD9kdO_k",
        "outputId": "32f8ed51-3c6e-4a58-bcc8-313fb9c33321"
      },
      "execution_count": 5,
      "outputs": [
        {
          "output_type": "stream",
          "name": "stdout",
          "text": [
            "Enter a number (or 'x' to quit): 6\n",
            "6 is even number.\n",
            "Enter a number (or 'x' to quit): 5\n",
            "5 is an odd number.\n",
            "Enter a number (or 'x' to quit): x\n",
            "Odd numbers entered by the user: [5]\n"
          ]
        }
      ]
    },
    {
      "cell_type": "markdown",
      "source": [],
      "metadata": {
        "id": "JouTLnIwd-Ur"
      }
    },
    {
      "cell_type": "markdown",
      "source": [
        "Sum the numbers in a list"
      ],
      "metadata": {
        "id": "cQFCfjTzdmaX"
      }
    },
    {
      "cell_type": "code",
      "source": [
        "def sum_numbers_in_list(user_input):\n",
        "    try:\n",
        "        numbers = [int(num) for num in user_input.split()]\n",
        "        total = sum(numbers)\n",
        "\n",
        "        return total\n",
        "    except ValueError:\n",
        "        return \"Invalid input. Please enter a list of numbers separated by spaces.\"\n",
        "user_input = input(\"Enter a list of numbers separated by spaces: \")\n",
        "result = sum_numbers_in_list(user_input)\n",
        "print(\"Sum of the numbers:\", result)"
      ],
      "metadata": {
        "colab": {
          "base_uri": "https://localhost:8080/"
        },
        "id": "V_EMH6PpduOe",
        "outputId": "6470cb8a-6525-458e-fae1-0670093d53be"
      },
      "execution_count": 6,
      "outputs": [
        {
          "output_type": "stream",
          "name": "stdout",
          "text": [
            "Enter a list of numbers separated by spaces: 5 4 3 2 1\n",
            "Sum of the numbers: 15\n"
          ]
        }
      ]
    }
  ]
}